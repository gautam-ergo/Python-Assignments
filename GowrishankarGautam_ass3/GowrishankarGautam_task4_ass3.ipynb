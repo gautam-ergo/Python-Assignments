{
 "cells": [
  {
   "cell_type": "code",
   "execution_count": 4,
   "metadata": {},
   "outputs": [
    {
     "name": "stdout",
     "output_type": "stream",
     "text": [
      "Consider the matrix:\n",
      " [[ 1  2  3  4  5  6]\n",
      " [ 7  8  9 10 11 12]\n",
      " [13 14 15 16 17 18]\n",
      " [19 20 21 22 23 24]\n",
      " [25 26 27 28 29 30]\n",
      " [31 32 33 34 35 36]]\n",
      "Sum of Elements = 315\n",
      "Every third row and every second column:\n",
      " [[14 16 18]\n",
      " [32 34 36]]\n",
      "Reverse:\n",
      " [[36 35 34 33 32 31]\n",
      " [30 29 28 27 26 25]\n",
      " [24 23 22 21 20 19]\n",
      " [18 17 16 15 14 13]\n",
      " [12 11 10  9  8  7]\n",
      " [ 6  5  4  3  2  1]]\n",
      "The matrix is Symmetric\n"
     ]
    }
   ],
   "source": [
    "\"\"\"\n",
    "CS 677 Data Science with Python\n",
    "#########################################\n",
    "Module          - HW 3\n",
    "Creation Date   - 17/02/2018\n",
    "Student Name    - Gautam Gowrishankar\n",
    "\"\"\"\n",
    "import os\n",
    "import pandas as pd\n",
    "import math\n",
    "import numpy as np\n",
    "import random\n",
    "import matplotlib.pyplot as plt\n",
    "from statistics import median,mean\n",
    "\n",
    "\n",
    "#Intro to numpy\n",
    "matrix = np.arange(1, 37).reshape(6,6)\n",
    "print(\"Consider the matrix:\\n\",matrix)\n",
    "sum_elements = np.sum(matrix[[1,2,4],:])\n",
    "print(\"Sum of Elements = \" + str(sum_elements))\n",
    "third_row = matrix[2::3, 1::2]\n",
    "print(\"Every third row and every second column:\\n\",third_row)\n",
    "reverse = matrix[::-1, ::-1]\n",
    "print(\"Reverse:\\n\",reverse)\n",
    "trans = np.transpose(matrix)\n",
    "if (matrix == np.transpose(trans)).all():\n",
    "    print(\"The matrix is Symmetric\")\n",
    "else: print(\"The matrix is Asymmetric\")\n"
   ]
  },
  {
   "cell_type": "code",
   "execution_count": null,
   "metadata": {},
   "outputs": [],
   "source": []
  }
 ],
 "metadata": {
  "kernelspec": {
   "display_name": "Python 3",
   "language": "python",
   "name": "python3"
  },
  "language_info": {
   "codemirror_mode": {
    "name": "ipython",
    "version": 3
   },
   "file_extension": ".py",
   "mimetype": "text/x-python",
   "name": "python",
   "nbconvert_exporter": "python",
   "pygments_lexer": "ipython3",
   "version": "3.7.0"
  }
 },
 "nbformat": 4,
 "nbformat_minor": 2
}
