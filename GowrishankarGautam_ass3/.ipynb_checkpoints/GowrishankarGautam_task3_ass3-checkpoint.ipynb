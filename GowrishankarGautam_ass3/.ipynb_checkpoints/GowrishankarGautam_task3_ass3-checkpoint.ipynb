{
 "cells": [
  {
   "cell_type": "code",
   "execution_count": 1,
   "metadata": {},
   "outputs": [],
   "source": [
    "\"\"\"\n",
    "CS 677 Data Science with Python\n",
    "#########################################\n",
    "Module          - HW 3\n",
    "Creation Date   - 17/02/2018\n",
    "Student Name    - Gautam Gowrishankar\n",
    "\"\"\"\n",
    "import os\n",
    "import pandas as pd\n",
    "import math\n",
    "import numpy as np\n",
    "import random\n",
    "import matplotlib.pyplot as plt\n",
    "from statistics import median,mean\n",
    "\n",
    "\n",
    "\n",
    "input_dir = r'/Users/arun/Downloads/CS677 - PY/'\n",
    "input_file  = os.path.join(input_dir, 'GPS_MOD.csv')\n",
    "\n",
    "df = pd.read_csv(input_file)\n"
   ]
  },
  {
   "cell_type": "code",
   "execution_count": 2,
   "metadata": {},
   "outputs": [
    {
     "data": {
      "image/png": "[encoded data removed]",
      "text/plain": [
       "<Figure size 504x504 with 1 Axes>"
      ]
     },
     "metadata": {
      "needs_background": "light"
     },
     "output_type": "display_data"
    }
   ],
   "source": [
    "#bollinger strategy\n",
    "def Strategy2(shortWindow,longWindow):\n",
    "    shortWindow = df['Adj Close'].rolling(window=shortWindow, min_periods=1).mean()\n",
    "    longWindow = df['Adj Close'].rolling(window=longWindow, min_periods=1).mean()\n",
    "    price = df['Adj Close']\n",
    "    ownStock = False\n",
    "    win,loss = [],[]\n",
    "    numberOfShares,stockCost,revenue = 0,0,0\n",
    "    \n",
    "    for short, long, adj in zip(shortWindow, longWindow, price):\n",
    "        if short > long:\n",
    "            numberOfShares = 100 // adj #$100 as the investment\n",
    "            stockCost = adj\n",
    "            ownStock = True\n",
    "                \n",
    "        elif ownStock and short < long:\n",
    "            revenue = (adj * numberOfShares) - (stockCost * numberOfShares)\n",
    "            ownStock = False\n",
    "            win.append(round(revenue,3)) if revenue > 0 else loss.append(round(revenue,3))\n",
    "    return win, loss\n",
    "\n",
    "\n",
    "def prepData(df):\n",
    "    data = np.array([])\n",
    "    for w in df.index:\n",
    "        data = np.append(data, df.loc[w])\n",
    "    return data\n",
    "\n",
    "#visualization axis\n",
    "def prepAxis(df):\n",
    "    index = list(df.index)\n",
    "    column = list(df.columns)\n",
    "    x = []\n",
    "    for i in index:\n",
    "        for c in range(len(column)):\n",
    "            x.append(i)\n",
    "    y = column * len(index)\n",
    "    return x, y\n",
    "\n",
    "#Implementing two window strategy\n",
    "shortW = range(10, 45, 5)\n",
    "dictProf,dictLoss = {'W': shortW},{'W': shortW}\n",
    "\n",
    "for k in range(50, 85, 5):\n",
    "    gain,loss = [],[]\n",
    "    for w in shortW:\n",
    "        earned, lost = Strategy2(w,k)\n",
    "        #append the trimmed mean\n",
    "        gain.append(round(np.mean((np.delete(earned, [np.argmax(earned), np.argmin(earned)]))),3)) if len(earned) > 3 else gain.append(round(mean(earned),3))\n",
    "        loss.append(round(np.mean((np.delete(lost, [np.argmax(lost), np.argmin(lost)]))),3)) if len(lost) > 3 else loss.append(round(mean(lost),3))    \n",
    "    dictProf[k] = gain\n",
    "    dictLoss[k] = loss     \n",
    "gainDF = pd.DataFrame({ key:pd.Series(value) for key, value in dictProf.items() }).set_index(\"W\")\n",
    "lossDF = pd.DataFrame({ key:pd.Series(value) for key, value in dictLoss.items() }).set_index(\"W\")\n",
    "\n",
    "#plotting\n",
    "XcordGain, YcordGain = prepAxis(gainDF)\n",
    "XcordLoss, YcordLoss = prepAxis(lossDF)\n",
    "plt.figure(figsize=(7,7))\n",
    "plt.xticks(XcordGain)\n",
    "plt.yticks(YcordGain)\n",
    "plt.scatter(XcordGain, YcordGain, s = prepData(gainDF) * 20, color = 'g', alpha = 0.5)\n",
    "plt.scatter(XcordLoss, YcordLoss, s = prepData(lossDF) * -20, color = 'r', alpha = 0.5 )\n",
    "plt.xlabel('Short Window', fontsize=10)\n",
    "plt.ylabel('Long Window', fontsize=10)\n",
    "plt.show()\n",
    "#Plot clearly indicates a predominantly losing streak"
   ]
  },
  {
   "cell_type": "code",
   "execution_count": null,
   "metadata": {},
   "outputs": [],
   "source": []
  }
 ],
 "metadata": {
  "kernelspec": {
   "display_name": "Python 3",
   "language": "python",
   "name": "python3"
  },
  "language_info": {
   "codemirror_mode": {
    "name": "ipython",
    "version": 3
   },
   "file_extension": ".py",
   "mimetype": "text/x-python",
   "name": "python",
   "nbconvert_exporter": "python",
   "pygments_lexer": "ipython3",
   "version": "3.7.0"
  }
 },
 "nbformat": 4,
 "nbformat_minor": 2
}
