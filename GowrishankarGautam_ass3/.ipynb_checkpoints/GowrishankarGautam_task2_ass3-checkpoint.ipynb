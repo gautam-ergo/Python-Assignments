{
 "cells": [
  {
   "cell_type": "code",
   "execution_count": 1,
   "metadata": {},
   "outputs": [],
   "source": [
    "\"\"\"\n",
    "CS 677 Data Science with Python\n",
    "#########################################\n",
    "Module          - HW 3\n",
    "Creation Date   - 17/02/2018\n",
    "Student Name    - Gautam Gowrishankar\n",
    "\"\"\"\n",
    "import os\n",
    "import pandas as pd\n",
    "import math\n",
    "import numpy as np\n",
    "import random\n",
    "import matplotlib.pyplot as plt\n",
    "from statistics import median,mean\n",
    "\n",
    "\n",
    "\n",
    "input_dir = r'/Users/arun/Downloads/CS677 - PY/'\n",
    "input_file  = os.path.join(input_dir, 'GPS_MOD.csv')\n",
    "\n",
    "df = pd.read_csv(input_file)\n"
   ]
  },
  {
   "cell_type": "code",
   "execution_count": 3,
   "metadata": {},
   "outputs": [
    {
     "data": {
      "image/png": "[encoded data removed]",
      "text/plain": [
       "<Figure size 504x504 with 1 Axes>"
      ]
     },
     "metadata": {
      "needs_background": "light"
     },
     "output_type": "display_data"
    }
   ],
   "source": [
    "#bollinger strategy\n",
    "def Bollinger(year, w, k):\n",
    "    stDev = df.loc[df['Year'] == year]['Adj Close'].rolling(window=w, min_periods=1).std()\n",
    "    mvAvrg = df.loc[df['Year'] == year]['Adj Close'].rolling(window=w, min_periods=1).mean()\n",
    "    price = df.loc[df['Year'] == year]['Adj Close']\n",
    "    ownStock = False\n",
    "    win,loss = [],[]\n",
    "    numberOfShares,stockCost,revenue = 0,0,0\n",
    "    \n",
    "    for ma, sd, adj in zip(mvAvrg, stDev, price):\n",
    "        if adj < (ma + k * sd):\n",
    "            numberOfShares = 100 // adj #$100 as the investment\n",
    "            stockCost = adj\n",
    "            ownStock = True\n",
    "                \n",
    "        elif ownStock and (adj > (ma - k * sd)):\n",
    "            revenue = (adj * numberOfShares) - (stockCost * numberOfShares)\n",
    "            ownStock = False\n",
    "            win.append(round(revenue,3)) if revenue > 0 else loss.append(round(revenue,3))\n",
    "    return win, loss\n",
    "\n",
    "\n",
    "def prepData(df):\n",
    "    data = np.array([])\n",
    "    for w in df.index:\n",
    "        data = np.append(data, df.loc[w])\n",
    "    return data\n",
    "\n",
    "#visualization axis\n",
    "def prepAxis(df):\n",
    "    index = list(df.index)\n",
    "    column = list(df.columns)\n",
    "    x = []\n",
    "    for i in index:\n",
    "        for c in range(len(column)):\n",
    "            x.append(i)\n",
    "    y = column * len(index)\n",
    "    return x, y\n",
    "\n",
    "#Implementing Bollinger strategy\n",
    "window = list(range(10, 110, 10))\n",
    "dictProf = {'W':window}\n",
    "dictLoss = {'W':window}\n",
    "\n",
    "for k in (0.5 * x for x in range(1,8)):\n",
    "    gain,loss = [],[]\n",
    "    for w in window:\n",
    "        earned, lost = Bollinger(2017, w, k)\n",
    "        gain.append(round(mean(earned),3)) if earned else earned.append(0)\n",
    "        loss.append(mean(lost)) if lost else loss.append(0)\n",
    "    dictProf[k] = gain\n",
    "    dictLoss[k] = loss \n",
    "    \n",
    "gainDF = pd.DataFrame({ key:pd.Series(value) for key, value in dictProf.items() }).set_index(\"W\")\n",
    "lossDF = pd.DataFrame({ key:pd.Series(value) for key, value in dictLoss.items() }).set_index(\"W\")\n",
    "\n",
    "#plotting\n",
    "XcordGain, YcordGain = prepAxis(gainDF)\n",
    "XcordLoss, YcordLoss = prepAxis(lossDF)\n",
    "plt.figure(figsize=(7,7))\n",
    "plt.xticks(XcordGain)\n",
    "plt.yticks(YcordGain)\n",
    "plt.scatter(XcordGain, YcordGain, s = prepData(gainDF) * 5, color = 'g', alpha = 0.5)\n",
    "plt.scatter(XcordLoss, YcordLoss, s = prepData(lossDF) * -5, color = 'r', alpha = 0.5 )\n",
    "plt.xlabel('Window', fontsize=15)\n",
    "plt.ylabel('k-values', fontsize=15)\n",
    "plt.show()\n",
    "#Plot indicative of profitable strategy"
   ]
  },
  {
   "cell_type": "code",
   "execution_count": null,
   "metadata": {},
   "outputs": [],
   "source": []
  }
 ],
 "metadata": {
  "kernelspec": {
   "display_name": "Python 3",
   "language": "python",
   "name": "python3"
  },
  "language_info": {
   "codemirror_mode": {
    "name": "ipython",
    "version": 3
   },
   "file_extension": ".py",
   "mimetype": "text/x-python",
   "name": "python",
   "nbconvert_exporter": "python",
   "pygments_lexer": "ipython3",
   "version": "3.7.0"
  }
 },
 "nbformat": 4,
 "nbformat_minor": 2
}
