{
 "cells": [
  {
   "cell_type": "code",
   "execution_count": 34,
   "metadata": {},
   "outputs": [
    {
     "data": {
      "text/html": [
       "<div>\n",
       "<style scoped>\n",
       "    .dataframe tbody tr th:only-of-type {\n",
       "        vertical-align: middle;\n",
       "    }\n",
       "\n",
       "    .dataframe tbody tr th {\n",
       "        vertical-align: top;\n",
       "    }\n",
       "\n",
       "    .dataframe thead th {\n",
       "        text-align: right;\n",
       "    }\n",
       "</style>\n",
       "<table border=\"1\" class=\"dataframe\">\n",
       "  <thead>\n",
       "    <tr style=\"text-align: right;\">\n",
       "      <th></th>\n",
       "      <th>Date</th>\n",
       "      <th>Year</th>\n",
       "      <th>Month</th>\n",
       "      <th>Day</th>\n",
       "      <th>Weekday</th>\n",
       "      <th>High</th>\n",
       "      <th>Low</th>\n",
       "      <th>Close</th>\n",
       "      <th>Volume</th>\n",
       "      <th>Adj Close</th>\n",
       "      <th>Return</th>\n",
       "      <th>Short_MA</th>\n",
       "      <th>Long_MA</th>\n",
       "    </tr>\n",
       "  </thead>\n",
       "  <tbody>\n",
       "    <tr>\n",
       "      <th>0</th>\n",
       "      <td>2014-01-02</td>\n",
       "      <td>2014</td>\n",
       "      <td>1</td>\n",
       "      <td>2</td>\n",
       "      <td>Thursday</td>\n",
       "      <td>39.630001</td>\n",
       "      <td>38.660000</td>\n",
       "      <td>38.720001</td>\n",
       "      <td>4785200.0</td>\n",
       "      <td>32.561630</td>\n",
       "      <td>0.000000</td>\n",
       "      <td>32.561630</td>\n",
       "      <td>32.561630</td>\n",
       "    </tr>\n",
       "    <tr>\n",
       "      <th>1</th>\n",
       "      <td>2014-01-03</td>\n",
       "      <td>2014</td>\n",
       "      <td>1</td>\n",
       "      <td>3</td>\n",
       "      <td>Friday</td>\n",
       "      <td>39.750000</td>\n",
       "      <td>38.730000</td>\n",
       "      <td>39.520000</td>\n",
       "      <td>4437000.0</td>\n",
       "      <td>33.234386</td>\n",
       "      <td>0.020661</td>\n",
       "      <td>32.898008</td>\n",
       "      <td>32.898008</td>\n",
       "    </tr>\n",
       "    <tr>\n",
       "      <th>2</th>\n",
       "      <td>2014-01-06</td>\n",
       "      <td>2014</td>\n",
       "      <td>1</td>\n",
       "      <td>6</td>\n",
       "      <td>Monday</td>\n",
       "      <td>39.630001</td>\n",
       "      <td>38.799999</td>\n",
       "      <td>39.049999</td>\n",
       "      <td>4514200.0</td>\n",
       "      <td>33.006180</td>\n",
       "      <td>-0.006867</td>\n",
       "      <td>32.934066</td>\n",
       "      <td>32.934066</td>\n",
       "    </tr>\n",
       "    <tr>\n",
       "      <th>3</th>\n",
       "      <td>2014-01-07</td>\n",
       "      <td>2014</td>\n",
       "      <td>1</td>\n",
       "      <td>7</td>\n",
       "      <td>Tuesday</td>\n",
       "      <td>39.990002</td>\n",
       "      <td>39.090000</td>\n",
       "      <td>39.340000</td>\n",
       "      <td>6683300.0</td>\n",
       "      <td>33.251289</td>\n",
       "      <td>0.007426</td>\n",
       "      <td>33.013371</td>\n",
       "      <td>33.013371</td>\n",
       "    </tr>\n",
       "    <tr>\n",
       "      <th>4</th>\n",
       "      <td>2014-01-08</td>\n",
       "      <td>2014</td>\n",
       "      <td>1</td>\n",
       "      <td>8</td>\n",
       "      <td>Wednesday</td>\n",
       "      <td>39.330002</td>\n",
       "      <td>38.619999</td>\n",
       "      <td>39.200001</td>\n",
       "      <td>6951600.0</td>\n",
       "      <td>33.132961</td>\n",
       "      <td>-0.003559</td>\n",
       "      <td>33.037289</td>\n",
       "      <td>33.037289</td>\n",
       "    </tr>\n",
       "  </tbody>\n",
       "</table>\n",
       "</div>"
      ],
      "text/plain": [
       "         Date  Year  Month  Day    Weekday       High        Low      Close  \\\n",
       "0  2014-01-02  2014      1    2   Thursday  39.630001  38.660000  38.720001   \n",
       "1  2014-01-03  2014      1    3     Friday  39.750000  38.730000  39.520000   \n",
       "2  2014-01-06  2014      1    6     Monday  39.630001  38.799999  39.049999   \n",
       "3  2014-01-07  2014      1    7    Tuesday  39.990002  39.090000  39.340000   \n",
       "4  2014-01-08  2014      1    8  Wednesday  39.330002  38.619999  39.200001   \n",
       "\n",
       "      Volume  Adj Close    Return   Short_MA    Long_MA  \n",
       "0  4785200.0  32.561630  0.000000  32.561630  32.561630  \n",
       "1  4437000.0  33.234386  0.020661  32.898008  32.898008  \n",
       "2  4514200.0  33.006180 -0.006867  32.934066  32.934066  \n",
       "3  6683300.0  33.251289  0.007426  33.013371  33.013371  \n",
       "4  6951600.0  33.132961 -0.003559  33.037289  33.037289  "
      ]
     },
     "execution_count": 34,
     "metadata": {},
     "output_type": "execute_result"
    }
   ],
   "source": [
    "\"\"\"\n",
    "CS 677 Data Science with Python\n",
    "#########################################\n",
    "Module          - HW 5\n",
    "Creation Date   - 03/03/2019\n",
    "Student Name    - Gautam Gowrishankar\n",
    "\"\"\"\n",
    "import os\n",
    "import pandas as pd\n",
    "import math\n",
    "import numpy as np\n",
    "import random\n",
    "import matplotlib.pyplot as plt\n",
    "from statistics import median,mean\n",
    "\n",
    "#input file \n",
    "input_dir = r'/Users/arun/Downloads/CS677 - PY/'\n",
    "input_file  = os.path.join(input_dir, 'GPS_MOD.csv')\n",
    "\n",
    "\n",
    "df = pd.read_csv(input_file)\n",
    "df.head(5)"
   ]
  },
  {
   "cell_type": "code",
   "execution_count": 35,
   "metadata": {},
   "outputs": [
    {
     "data": {
      "text/html": [
       "<div>\n",
       "<style scoped>\n",
       "    .dataframe tbody tr th:only-of-type {\n",
       "        vertical-align: middle;\n",
       "    }\n",
       "\n",
       "    .dataframe tbody tr th {\n",
       "        vertical-align: top;\n",
       "    }\n",
       "\n",
       "    .dataframe thead th {\n",
       "        text-align: right;\n",
       "    }\n",
       "</style>\n",
       "<table border=\"1\" class=\"dataframe\">\n",
       "  <thead>\n",
       "    <tr style=\"text-align: right;\">\n",
       "      <th></th>\n",
       "      <th>Week</th>\n",
       "      <th>Mean</th>\n",
       "      <th>S.Dev</th>\n",
       "      <th>Label</th>\n",
       "    </tr>\n",
       "  </thead>\n",
       "  <tbody>\n",
       "    <tr>\n",
       "      <th>249</th>\n",
       "      <td>250</td>\n",
       "      <td>0.012858</td>\n",
       "      <td>0.027114</td>\n",
       "      <td>Green</td>\n",
       "    </tr>\n",
       "    <tr>\n",
       "      <th>250</th>\n",
       "      <td>251</td>\n",
       "      <td>0.002278</td>\n",
       "      <td>0.019928</td>\n",
       "      <td>Green</td>\n",
       "    </tr>\n",
       "    <tr>\n",
       "      <th>251</th>\n",
       "      <td>252</td>\n",
       "      <td>-0.017655</td>\n",
       "      <td>0.022891</td>\n",
       "      <td>Red</td>\n",
       "    </tr>\n",
       "    <tr>\n",
       "      <th>252</th>\n",
       "      <td>253</td>\n",
       "      <td>-0.006493</td>\n",
       "      <td>0.010713</td>\n",
       "      <td>Red</td>\n",
       "    </tr>\n",
       "    <tr>\n",
       "      <th>253</th>\n",
       "      <td>254</td>\n",
       "      <td>-0.003750</td>\n",
       "      <td>0.022830</td>\n",
       "      <td>Red</td>\n",
       "    </tr>\n",
       "  </tbody>\n",
       "</table>\n",
       "</div>"
      ],
      "text/plain": [
       "     Week      Mean     S.Dev  Label\n",
       "249   250  0.012858  0.027114  Green\n",
       "250   251  0.002278  0.019928  Green\n",
       "251   252 -0.017655  0.022891    Red\n",
       "252   253 -0.006493  0.010713    Red\n",
       "253   254 -0.003750  0.022830    Red"
      ]
     },
     "execution_count": 35,
     "metadata": {},
     "output_type": "execute_result"
    }
   ],
   "source": [
    "\"\"\"\"\n",
    "#Task 1: Identifying the best n value for KNN classifier\n",
    "\"\"\"\n",
    "#Note: Considering the whole dataset for processing for achieving better accuracy \n",
    "#i.e. all the four years of data are split in to test and train and not restricting to any particular year\n",
    "df2 = df[df[\"Weekday\"]==\"Thursday\"].copy() #Since my input starts on a thursday, consider it as 1st day of week \n",
    "df2['idx'] = df2.index - 1\n",
    "df2['idx'] = df2[\"idx\"].shift(-1) #index of week's ending day\n",
    "df2[\"idx\"].fillna((len(df)-1),inplace=True) #fix the last value, since we are shifting up\n",
    "df2.drop(df2.columns.difference(['Adj Close','Return','idx']),1,inplace=True)\n",
    "\n",
    "#Calulate the weekly returns\n",
    "#Idx column in df2 is nothing but the index of a particular week's last day\n",
    "#Actual index 'i' and 'idx' from df2 together form the boundaries of a week\n",
    "weeklyReturns = []\n",
    "indices = []\n",
    "for i,r in df2.iterrows():\n",
    "    returns = 100*((df[\"Adj Close\"].loc[r[\"idx\"]] - df[\"Adj Close\"].loc[i])/df[\"Adj Close\"].loc[i])\n",
    "    weeklyReturns.append(round(returns,3))\n",
    "    indices.append((i,r[\"idx\"]))\n",
    "\n",
    "#Calculating the weekly mean, standard deviation and creating a df from that info\n",
    "week = 1\n",
    "dicts = {}\n",
    "for x,y in indices:\n",
    "    dicts[week] = (df[\"Return\"][x:int(y)].mean(),df[\"Return\"][x:int(y)].std())\n",
    "    week +=1\n",
    "\n",
    "#Labeling Rationale: \n",
    "#If the mean returns for a particular week is positive, \n",
    "#label it as a favourable one i.e. Green else Red\n",
    "dfResult = pd.DataFrame.from_dict(dicts, orient='index').reset_index()\n",
    "dfResult.columns = ['Week','Mean','S.Dev']\n",
    "dfResult['Label'] = dfResult['Mean'].apply(lambda x: 'Red' if x < 0 else 'Green') #labeling\n",
    "dfResult.tail(5)"
   ]
  },
  {
   "cell_type": "code",
   "execution_count": 36,
   "metadata": {},
   "outputs": [
    {
     "name": "stderr",
     "output_type": "stream",
     "text": [
      "/Library/Frameworks/Python.framework/Versions/3.7/lib/python3.7/site-packages/sklearn/preprocessing/label.py:219: DataConversionWarning: A column-vector y was passed when a 1d array was expected. Please change the shape of y to (n_samples, ), for example using ravel().\n",
      "  y = column_or_1d(y, warn=True)\n",
      "/Library/Frameworks/Python.framework/Versions/3.7/lib/python3.7/site-packages/sklearn/preprocessing/label.py:252: DataConversionWarning: A column-vector y was passed when a 1d array was expected. Please change the shape of y to (n_samples, ), for example using ravel().\n",
      "  y = column_or_1d(y, warn=True)\n"
     ]
    }
   ],
   "source": [
    "from sklearn.neighbors import KNeighborsClassifier\n",
    "from sklearn.preprocessing import StandardScaler, LabelEncoder\n",
    "from sklearn.model_selection import train_test_split\n",
    "\n",
    "#Pre-processing begins\n",
    "X = dfResult[['Mean', 'S.Dev']].values\n",
    "Y = dfResult[['Label']].values\n",
    "\n",
    "scaler = StandardScaler()\n",
    "scaler.fit(X)\n",
    "X = scaler.transform(X)\n",
    "le = LabelEncoder()\n",
    "le.fit(Y)\n",
    "Y = le.transform(Y)"
   ]
  },
  {
   "cell_type": "code",
   "execution_count": 37,
   "metadata": {},
   "outputs": [
    {
     "name": "stdout",
     "output_type": "stream",
     "text": [
      "Length of training dataset: 190\n",
      "Length of test dataset: 64\n"
     ]
    }
   ],
   "source": [
    "X_train, X_test, Y_train, Y_test = train_test_split(X, Y, test_size = 0.25, shuffle = False, stratify = None)\n",
    "print(\"Length of training dataset: {}\".format(len(X_train)))\n",
    "print(\"Length of test dataset: {}\".format(len(X_test)))\n"
   ]
  },
  {
   "cell_type": "code",
   "execution_count": 38,
   "metadata": {},
   "outputs": [
    {
     "name": "stdout",
     "output_type": "stream",
     "text": [
      "The least error rate is: 0.015625 whose K-Value is: 1\n"
     ]
    },
    {
     "data": {
      "text/plain": [
       "Text(0, 0.5, 'Error Rate')"
      ]
     },
     "execution_count": 38,
     "metadata": {},
     "output_type": "execute_result"
    },
    {
     "data": {
      "image/png": "[encoded data removed]",
      "text/plain": [
       "<Figure size 720x288 with 1 Axes>"
      ]
     },
     "metadata": {
      "needs_background": "light"
     },
     "output_type": "display_data"
    }
   ],
   "source": [
    "from operator import itemgetter\n",
    "#Run through KNN for different neighbor values\n",
    "err = []\n",
    "val = [1, 2, 3, 5, 7, 9, 11]\n",
    "for k in val:\n",
    "    knn_classifier = KNeighborsClassifier(n_neighbors = k)\n",
    "    knn_classifier.fit(X_train, Y_train)\n",
    "    pred = knn_classifier.predict(X_test)\n",
    "    err.append(np.mean(pred != Y_test))\n",
    "print('The least error rate is:',min(err),'whose K-Value is:',val[min(enumerate(err), key=itemgetter(1))[0]])\n",
    "\n",
    "plt.figure(figsize = (10, 4))\n",
    "plt.plot(val, err , color='red', linestyle='dashed',\n",
    "            marker='o', markerfacecolor='black', markersize=10) \n",
    "plt.title('Error Rate vs. k')\n",
    "plt.xlabel('number of neighbors: k')\n",
    "plt.ylabel('Error Rate')"
   ]
  },
  {
   "cell_type": "code",
   "execution_count": 39,
   "metadata": {},
   "outputs": [
    {
     "name": "stdout",
     "output_type": "stream",
     "text": [
      "Prediction is true ['Green']\n"
     ]
    }
   ],
   "source": [
    "#Assessing the fit\n",
    "#Extracting only the first week value for the sake of prediction\n",
    "target = X[0:1]\n",
    "actual = Y[0]\n",
    "\n",
    "#Using the best neighbor value '1'\n",
    "knn_classifier = KNeighborsClassifier(n_neighbors = 1)\n",
    "knn_classifier.fit(X_train, Y_train)\n",
    "predicted = knn_classifier.predict(target)\n",
    "\n",
    "#Checking the predicted label\n",
    "if predicted == actual:\n",
    "    print('Prediction is true',le.inverse_transform(predicted))"
   ]
  },
  {
   "cell_type": "code",
   "execution_count": null,
   "metadata": {},
   "outputs": [],
   "source": []
  }
 ],
 "metadata": {
  "kernelspec": {
   "display_name": "Python 3",
   "language": "python",
   "name": "python3"
  },
  "language_info": {
   "codemirror_mode": {
    "name": "ipython",
    "version": 3
   },
   "file_extension": ".py",
   "mimetype": "text/x-python",
   "name": "python",
   "nbconvert_exporter": "python",
   "pygments_lexer": "ipython3",
   "version": "3.7.0"
  }
 },
 "nbformat": 4,
 "nbformat_minor": 2
}
